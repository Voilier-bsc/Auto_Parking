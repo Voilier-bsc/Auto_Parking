{
 "cells": [
  {
   "cell_type": "code",
   "execution_count": 3,
   "metadata": {},
   "outputs": [
    {
     "data": {
      "text/plain": [
       "[1, 5]"
      ]
     },
     "execution_count": 3,
     "metadata": {},
     "output_type": "execute_result"
    }
   ],
   "source": [
    "from tracemalloc import start\n",
    "import numpy as np\n",
    "import math\n",
    "import Vehicle\n",
    "import Environment as Env\n",
    "import matplotlib.pyplot as plt\n",
    "import random\n",
    "import Global_path_planning as GPL\n",
    "\n",
    "sample_list = list(range(0,6))\n",
    "sample_list\n",
    "random.sample(sample_list,2)"
   ]
  },
  {
   "cell_type": "code",
   "execution_count": 8,
   "metadata": {},
   "outputs": [
    {
     "data": {
      "text/plain": [
       "1"
      ]
     },
     "execution_count": 8,
     "metadata": {},
     "output_type": "execute_result"
    }
   ],
   "source": [
    "test = np.array([5,2,3])\n",
    "np.min((test-1))"
   ]
  },
  {
   "cell_type": "code",
   "execution_count": null,
   "metadata": {},
   "outputs": [],
   "source": []
  }
 ],
 "metadata": {
  "kernelspec": {
   "display_name": "Python 3.8.8 ('base')",
   "language": "python",
   "name": "python3"
  },
  "language_info": {
   "codemirror_mode": {
    "name": "ipython",
    "version": 3
   },
   "file_extension": ".py",
   "mimetype": "text/x-python",
   "name": "python",
   "nbconvert_exporter": "python",
   "pygments_lexer": "ipython3",
   "version": "3.8.8"
  },
  "orig_nbformat": 4,
  "vscode": {
   "interpreter": {
    "hash": "004b330d0a5a8982a6512ffdf0c80aec9b811f72a23a3208ecae245b753181f1"
   }
  }
 },
 "nbformat": 4,
 "nbformat_minor": 2
}
