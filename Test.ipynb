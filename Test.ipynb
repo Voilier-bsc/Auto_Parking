{
 "cells": [
  {
   "cell_type": "code",
   "execution_count": 4,
   "metadata": {},
   "outputs": [
    {
     "data": {
      "image/png": "[encoded data removed]",
      "text/plain": [
       "<Figure size 432x288 with 1 Axes>"
      ]
     },
     "metadata": {
      "needs_background": "light"
     },
     "output_type": "display_data"
    },
    {
     "name": "stdout",
     "output_type": "stream",
     "text": [
      "start :  [3, 3, 1.5707963267948966]\n",
      "target :  [17.7, 19.8, -1.5707963267948966]\n"
     ]
    }
   ],
   "source": [
    "from tracemalloc import start\n",
    "import numpy as np\n",
    "import math\n",
    "import Vehicle\n",
    "import Environment as Env\n",
    "import matplotlib.pyplot as plt\n",
    "import random\n",
    "import Global_path_planning as GPL\n",
    "\n",
    "CAR_INIT_X = 3\n",
    "CAR_INIT_Y = 3\n",
    "CAR_INIT_YAW = 90 #deg\n",
    "\n",
    "env = Env.Environment_1(Env.XMIN,Env.YMIN,Env.XMAX,Env.YMAX)\n",
    "env.create_world_1()\n",
    "env.plot_world()\n",
    "veh = Vehicle.Vehicle(x = CAR_INIT_X, y =CAR_INIT_Y, yaw=np.deg2rad(90), v=0.0)\n",
    "veh.plot_car(0)\n",
    "plt.show()\n",
    "\n",
    "obs_list = env.obstacle_list\n",
    "\n",
    "start_pos = [veh.x, veh.y, veh.yaw]\n",
    "target_pos = [env.target_x, env.target_y, np.deg2rad(-90.0)]\n",
    "\n",
    "print(\"start : \", start_pos)\n",
    "print(\"target : \", target_pos)"
   ]
  },
  {
   "cell_type": "code",
   "execution_count": 5,
   "metadata": {},
   "outputs": [],
   "source": [
    "a = GPL.Global_Hybrid_A_Star_Planning(start_pos, target_pos, obs_list)"
   ]
  },
  {
   "cell_type": "code",
   "execution_count": 6,
   "metadata": {},
   "outputs": [
    {
     "data": {
      "text/plain": [
       "[0, 1, 2]"
      ]
     },
     "execution_count": 6,
     "metadata": {},
     "output_type": "execute_result"
    }
   ],
   "source": [
    "from scipy.spatial import cKDTree\n",
    "a = np.vstack(([1, 2, 3],[4, 5, 6])).T\n",
    "b = np.array([[1,4],[2,5],[3,6]])\n",
    "KT = cKDTree(b)\n",
    "KT.query_ball_point([1, 2], 5)"
   ]
  },
  {
   "cell_type": "code",
   "execution_count": 7,
   "metadata": {},
   "outputs": [
    {
     "data": {
      "text/plain": [
       "2.462214450449026"
      ]
     },
     "execution_count": 7,
     "metadata": {},
     "output_type": "execute_result"
    }
   ],
   "source": [
    "# Vehicle parameters\n",
    "LENGTH = 4.5  # [m]\n",
    "WIDTH = 2.0  # [m]\n",
    "BACKTOWHEEL = 1.0  # [m]\n",
    "WHEEL_LEN = 0.3  # [m]\n",
    "WHEEL_WIDTH = 0.2  # [m]\n",
    "TREAD = 0.7  # [m]\n",
    "WB = 2.5  # [m]\n",
    "\n",
    "MAX_STEER = np.deg2rad(45.0)  # maximum steering angle [rad]\n",
    "MAX_DSTEER = np.deg2rad(30.0)  # maximum steering speed [rad/s]\n",
    "MAX_SPEED = 55.0 / 3.6  # maximum speed [m/s]\n",
    "MIN_SPEED = -20.0 / 3.6  # minimum speed [m/s]\n",
    "MAX_ACCEL = 1.0  # maximum accel [m/ss]\n",
    "\n",
    "DT = 0.1\n",
    "\n",
    "LF = LENGTH - BACKTOWHEEL\n",
    "LB = BACKTOWHEEL\n",
    "VEHICLE_RAD = np.hypot((LF + LB) / 2.0, WIDTH / 2.0)\n",
    "VEHICLE_RAD"
   ]
  },
  {
   "cell_type": "code",
   "execution_count": null,
   "metadata": {},
   "outputs": [],
   "source": [
    "start_node = GPL.Global_Node(start_pos[0], start_pos[1], start_pos[2], True,\n",
    "                             [start_pos[0]], [start_pos[1]], [start_pos[2]], [True], cost = 0)\n",
    "\n",
    "target_node = GPL.Global_Node(target_pos[0], target_pos[1], target_pos[2], True,\n",
    "                             [target_pos[0]], [target_pos[1]], [target_pos[2]], [True])\n",
    "\n",
    "open_set, closed_set = dict(), dict()"
   ]
  }
 ],
 "metadata": {
  "kernelspec": {
   "display_name": "Python 3.8.8 ('base')",
   "language": "python",
   "name": "python3"
  },
  "language_info": {
   "codemirror_mode": {
    "name": "ipython",
    "version": 3
   },
   "file_extension": ".py",
   "mimetype": "text/x-python",
   "name": "python",
   "nbconvert_exporter": "python",
   "pygments_lexer": "ipython3",
   "version": "3.8.8"
  },
  "orig_nbformat": 4,
  "vscode": {
   "interpreter": {
    "hash": "004b330d0a5a8982a6512ffdf0c80aec9b811f72a23a3208ecae245b753181f1"
   }
  }
 },
 "nbformat": 4,
 "nbformat_minor": 2
}
