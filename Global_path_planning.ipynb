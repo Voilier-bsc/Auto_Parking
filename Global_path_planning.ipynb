{
 "cells": [
  {
   "cell_type": "code",
   "execution_count": 1,
   "metadata": {},
   "outputs": [],
   "source": [
    "import heapq\n",
    "import math\n",
    "import os\n",
    "import sys\n",
    "\n",
    "import matplotlib.pyplot as plt\n",
    "import numpy as np\n",
    "from scipy.spatial import cKDTree\n",
    "\n",
    "import Reeds_shepp_path as rs\n",
    "import heapq\n",
    "import math\n",
    "import Environment as Env\n",
    "import Vehicle\n",
    "import cv2\n",
    "DISCRETE_COST = 1\n",
    "plot_array = []\n",
    "discrete_motion =   [[1, 0, DISCRETE_COST],\n",
    "                    [0, 1, DISCRETE_COST],\n",
    "                    [-1, 0, DISCRETE_COST],\n",
    "                    [0, -1, DISCRETE_COST],\n",
    "                    [-1, -1, DISCRETE_COST * math.sqrt(2)],\n",
    "                    [-1, 1, DISCRETE_COST * math.sqrt(2)],\n",
    "                    [1, -1, DISCRETE_COST * math.sqrt(2)],\n",
    "                    [1, 1, DISCRETE_COST * math.sqrt(2)]]\n",
    "\n",
    "\n",
    "class D_Node:\n",
    "    def __init__(self, x, y, cost):\n",
    "        self.x = x\n",
    "        self.y = y\n",
    "        self.cost = cost\n",
    "\n",
    "\n",
    "def create_heuristic_dict(goal_x, goal_y, obstacle_list):\n",
    "    goal_node = D_Node(round(goal_x), round(goal_y), 0.0)\n",
    "    \n",
    "    obstacle_map = create_obstacle_map(obstacle_list)\n",
    "    \n",
    "    open_set, heurisitc_dict = dict(), dict()\n",
    "    \n",
    "    goal_ind = calc_index(goal_node)\n",
    "    open_set[goal_ind] = goal_node\n",
    "    \n",
    "    ## cost, ind\n",
    "    priority_q = [(0, goal_ind)]\n",
    "\n",
    "    while True:\n",
    "        if not priority_q:\n",
    "            break\n",
    "        \n",
    "        cost, current_ind = heapq.heappop(priority_q)\n",
    "        \n",
    "        if current_ind in open_set:\n",
    "            current_node = open_set[current_ind]\n",
    "            heurisitc_dict[current_ind] = current_node\n",
    "            open_set.pop(current_ind)\n",
    "            \n",
    "        else:\n",
    "            continue\n",
    "        \n",
    "        for i, _ in enumerate(discrete_motion):\n",
    "            new_node = D_Node(current_node.x + discrete_motion[i][0], current_node.y + discrete_motion[i][1], current_node.cost + discrete_motion[i][2])\n",
    "            new_ind = calc_index(new_node)\n",
    "            \n",
    "            if new_ind in heurisitc_dict:\n",
    "                continue\n",
    "            \n",
    "            if not check_discrete_collision(new_node, obstacle_map):\n",
    "                continue\n",
    "            \n",
    "            if new_ind not in open_set:\n",
    "                open_set[new_ind] = new_node\n",
    "                heapq.heappush(priority_q, (new_node.cost, calc_index(new_node)))\n",
    "                \n",
    "            else:\n",
    "                if open_set[new_ind].cost >= new_node.cost:\n",
    "                    open_set[new_ind] = new_node\n",
    "                    heapq.heappush(priority_q, (new_node.cost, calc_index(new_node)))\n",
    "        \n",
    "    return heurisitc_dict\n",
    "\n",
    "def create_obstacle_map(obstacle_list):\n",
    "    obstacle_map = [[False for _ in range(Env.YWID+1)] for _ in range(Env.XWID+1)]\n",
    "    for i in range(Env.XWID+1):\n",
    "        x = i + Env.XMIN\n",
    "        for j in range(Env.YWID+1):\n",
    "            y = j + Env.XMIN\n",
    "            for ox, oy in obstacle_list:\n",
    "                if [x, y] == [round(ox), round(oy)]:\n",
    "                    obstacle_map[i][j] = True\n",
    "                    plot_array.append([i, j])\n",
    "                    break\n",
    "    return obstacle_map\n",
    "\n",
    "def calc_index(node):\n",
    "    return (node.y - Env.YMIN) * Env.XWID + (node.x - Env.XMIN)\n",
    "\n",
    "def check_discrete_collision(node, obstacle_map):\n",
    "    if node.x < Env.XMIN:\n",
    "            return False\n",
    "    elif node.y < Env.YMIN:\n",
    "        return False\n",
    "    elif node.x >= Env.XMAX:\n",
    "        return False\n",
    "    elif node.y >= Env.YMAX:\n",
    "        return False\n",
    "\n",
    "    if obstacle_map[node.x][node.y]:\n",
    "        return False\n",
    "    \n",
    "    return True"
   ]
  },
  {
   "cell_type": "code",
   "execution_count": 2,
   "metadata": {},
   "outputs": [
    {
     "data": {
      "image/png": "[encoded data removed]",
      "text/plain": [
       "<Figure size 432x288 with 1 Axes>"
      ]
     },
     "metadata": {
      "needs_background": "light"
     },
     "output_type": "display_data"
    },
    {
     "name": "stdout",
     "output_type": "stream",
     "text": [
      "start :  [3, 3, 1.5707963267948966]\n",
      "target :  [12.5, 8.6, -1.5707963267948966]\n"
     ]
    }
   ],
   "source": [
    "import numpy as np\n",
    "import math\n",
    "import Vehicle\n",
    "import Environment as Env\n",
    "import matplotlib.pyplot as plt\n",
    "import random\n",
    "\n",
    "CAR_INIT_X = 3\n",
    "CAR_INIT_Y = 3\n",
    "CAR_INIT_YAW = 90 #deg\n",
    "\n",
    "env = Env.Environment_1(Env.XMIN,Env.YMIN,Env.XMAX,Env.YMAX)\n",
    "env.create_world_1()\n",
    "env.plot_world()\n",
    "veh = Vehicle.Vehicle(x = CAR_INIT_X, y = CAR_INIT_Y, yaw = np.deg2rad(90), v=0.0)\n",
    "veh.plot_car(0)\n",
    "plt.show()\n",
    "\n",
    "obs_list = env.obstacle_list\n",
    "\n",
    "start_pos = [veh.x, veh.y, veh.yaw]\n",
    "target_pos = [env.target_x, env.target_y, np.deg2rad(-90.0)]\n",
    "\n",
    "print(\"start : \", start_pos)\n",
    "print(\"target : \", target_pos)\n",
    "\n",
    "obs_map = np.array(create_obstacle_map(obs_list))\n"
   ]
  },
  {
   "cell_type": "code",
   "execution_count": 4,
   "metadata": {},
   "outputs": [],
   "source": [
    "heuristic_dict = create_heuristic_dict(target_pos[0], target_pos[1], obs_list)"
   ]
  },
  {
   "cell_type": "code",
   "execution_count": 21,
   "metadata": {},
   "outputs": [
    {
     "data": {
      "text/plain": [
       "<matplotlib.image.AxesImage at 0x7f9615245a30>"
      ]
     },
     "execution_count": 21,
     "metadata": {},
     "output_type": "execute_result"
    },
    {
     "data": {
      "image/png": "[encoded data removed]",
      "text/plain": [
       "<Figure size 432x288 with 1 Axes>"
      ]
     },
     "metadata": {
      "needs_background": "light"
     },
     "output_type": "display_data"
    }
   ],
   "source": [
    "heuristic_map = np.zeros((Env.XWID+1, Env.YWID+1, 1))\n",
    "\n",
    "for ind, node in heuristic_dict.items():\n",
    "    heuristic_map[node.x][node.y] = node.cost\n",
    "    \n",
    "plt.imshow(heuristic_map)"
   ]
  },
  {
   "cell_type": "code",
   "execution_count": null,
   "metadata": {},
   "outputs": [],
   "source": [
    "\n",
    "env.plot_world()\n",
    "veh.plot_car(0)\n",
    "plt.plot(np.array(plot_array)[:,0], np.array(plot_array)[:,1], '.r')\n",
    "plt.show()\n"
   ]
  },
  {
   "cell_type": "code",
   "execution_count": 17,
   "metadata": {},
   "outputs": [
    {
     "data": {
      "text/plain": [
       "1"
      ]
     },
     "execution_count": 17,
     "metadata": {},
     "output_type": "execute_result"
    }
   ],
   "source": [
    "a = D_Node(0.3, 0.4, 1)\n",
    "b = D_Node(0.4, 0.2, 3)\n",
    "a_list = []\n",
    "\n",
    "a_list.append(a)\n",
    "a_list.append(b)\n",
    "a_list.index(b)"
   ]
  },
  {
   "cell_type": "code",
   "execution_count": 9,
   "metadata": {},
   "outputs": [],
   "source": [
    "a_list[0][0][0] = a"
   ]
  },
  {
   "cell_type": "code",
   "execution_count": 10,
   "metadata": {},
   "outputs": [
    {
     "data": {
      "text/plain": [
       "<__main__.D_Node at 0x7f8e1b7e40a0>"
      ]
     },
     "execution_count": 10,
     "metadata": {},
     "output_type": "execute_result"
    }
   ],
   "source": [
    "a_list[0][0][0]"
   ]
  },
  {
   "cell_type": "code",
   "execution_count": 13,
   "metadata": {},
   "outputs": [],
   "source": [
    "array = [[[D_Node(0,0,0) for col in range(10)] for row in range(8)] for wid in range(50)]"
   ]
  },
  {
   "cell_type": "code",
   "execution_count": 14,
   "metadata": {},
   "outputs": [
    {
     "data": {
      "text/plain": [
       "50"
      ]
     },
     "execution_count": 14,
     "metadata": {},
     "output_type": "execute_result"
    }
   ],
   "source": [
    "len(array)"
   ]
  },
  {
   "cell_type": "code",
   "execution_count": null,
   "metadata": {},
   "outputs": [],
   "source": []
  }
 ],
 "metadata": {
  "kernelspec": {
   "display_name": "Python 3.8.8 ('base')",
   "language": "python",
   "name": "python3"
  },
  "language_info": {
   "codemirror_mode": {
    "name": "ipython",
    "version": 3
   },
   "file_extension": ".py",
   "mimetype": "text/x-python",
   "name": "python",
   "nbconvert_exporter": "python",
   "pygments_lexer": "ipython3",
   "version": "3.8.8"
  },
  "orig_nbformat": 4,
  "vscode": {
   "interpreter": {
    "hash": "004b330d0a5a8982a6512ffdf0c80aec9b811f72a23a3208ecae245b753181f1"
   }
  }
 },
 "nbformat": 4,
 "nbformat_minor": 2
}
