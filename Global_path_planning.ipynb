{
 "cells": [
  {
   "cell_type": "code",
   "execution_count": 1,
   "metadata": {},
   "outputs": [],
   "source": [
    "import heapq\n",
    "import math\n",
    "import os\n",
    "import sys\n",
    "\n",
    "import matplotlib.pyplot as plt\n",
    "import numpy as np\n",
    "from scipy.spatial import cKDTree\n",
    "\n",
    "import Reeds_shepp_path as rs"
   ]
  },
  {
   "cell_type": "code",
   "execution_count": null,
   "metadata": {},
   "outputs": [],
   "source": [
    "class Global_Node:\n",
    "    def __init__(self, x, y, yaw, direction,\n",
    "                 x_list, y_list, yaw_list, directions,\n",
    "                 steer=0.0, parent_node=None, cost=None):\n",
    "        self.x = x\n",
    "        self.y = y\n",
    "        self.yaw = yaw\n",
    "        self.direction = direction\n",
    "        \n",
    "        self.x_list = x_list\n",
    "        self.y_list = y_list\n",
    "        self.yaw_list = yaw_list\n",
    "        self.directions = directions\n",
    "        \n",
    "        self.steer = steer\n",
    "        self.parent_node = parent_node\n",
    "        self.cost = cost\n",
    "\n",
    "class Global_Path:\n",
    "    def __init__(self, x_list, y_list, yaw_list, direction_list, cost):\n",
    "        self.x_list = x_list\n",
    "        self.y_list = y_list\n",
    "        self.yaw_list = yaw_list\n",
    "        self.direction_list = direction_list\n",
    "        self.cost = cost\n",
    "        \n",
    "        \n"
   ]
  }
 ],
 "metadata": {
  "kernelspec": {
   "display_name": "Python 3.8.8 ('base')",
   "language": "python",
   "name": "python3"
  },
  "language_info": {
   "codemirror_mode": {
    "name": "ipython",
    "version": 3
   },
   "file_extension": ".py",
   "mimetype": "text/x-python",
   "name": "python",
   "nbconvert_exporter": "python",
   "pygments_lexer": "ipython3",
   "version": "3.8.8"
  },
  "orig_nbformat": 4,
  "vscode": {
   "interpreter": {
    "hash": "004b330d0a5a8982a6512ffdf0c80aec9b811f72a23a3208ecae245b753181f1"
   }
  }
 },
 "nbformat": 4,
 "nbformat_minor": 2
}
